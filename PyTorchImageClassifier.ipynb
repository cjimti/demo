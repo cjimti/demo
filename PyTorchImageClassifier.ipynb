{
 "cells": [
  {
   "cell_type": "markdown",
   "id": "double-angle",
   "metadata": {},
   "source": [
    "![](images/gpulab.png)\n",
    "\n",
    "# Pytorch Image Classifier Demonstration\n",
    "\n",
    "The following GPULab demonstration uses PyTorch to create and train a flower species image classifier  using the [102 Category Flower Dataset](https://www.robots.ox.ac.uk/~vgg/data/flowers/102/index.html) available from Oxford's [Visual Geometry Group](https://www.robots.ox.ac.uk/~vgg/index.html). "
   ]
  },
  {
   "cell_type": "markdown",
   "id": "neither-nelson",
   "metadata": {},
   "source": [
    "Import all dependencies."
   ]
  },
  {
   "cell_type": "code",
   "execution_count": 1,
   "id": "compatible-traveler",
   "metadata": {},
   "outputs": [],
   "source": [
    "import os\n",
    "import requests\n",
    "import tarfile\n",
    "import scipy.io as sio\n",
    "import numpy as np\n",
    "import shutil\n",
    "from IPython.display import Image"
   ]
  },
  {
   "cell_type": "markdown",
   "id": "cooked-genesis",
   "metadata": {},
   "source": [
    "Set a few default values and paths."
   ]
  },
  {
   "cell_type": "code",
   "execution_count": 2,
   "id": "convinced-browser",
   "metadata": {},
   "outputs": [],
   "source": [
    "data_dir = \"./data/flowers/\"\n",
    "source_url = \"https://www.robots.ox.ac.uk/~vgg/data/flowers/102/\"\n",
    "image_source = \"102flowers.tgz\"\n",
    "label_source = \"imagelabels.mat\"\n",
    "training_dir = 'training/'\n",
    "validation_dir = 'validation/'\n",
    "test_dir = 'test/'"
   ]
  },
  {
   "cell_type": "markdown",
   "id": "becoming-secretary",
   "metadata": {},
   "source": [
    "## Aquire Source Data\n",
    "\n",
    "Download data lables and if it does not exists using the [requests](https://requests.readthedocs.io/en/master/) library."
   ]
  },
  {
   "cell_type": "code",
   "execution_count": 3,
   "id": "delayed-quest",
   "metadata": {},
   "outputs": [],
   "source": [
    "# create a data directory if it does not exist\n",
    "if os.path.isdir(data_dir) is False:\n",
    "    os.mkdir(data_dir)\n",
    "\n",
    "# download source data if it does not exist\n",
    "for file in [image_source, label_source]:\n",
    "    if os.path.isfile(data_dir + file) is False:\n",
    "        print(f\"{data_dir + file} is not found, downloading...\")\n",
    "        r = requests.get(source_url + file)\n",
    "        with open(data_dir + file, 'wb') as f:\n",
    "            f.write(r.content)"
   ]
  },
  {
   "cell_type": "markdown",
   "id": "sharing-vacation",
   "metadata": {},
   "source": [
    "Extract images from the downloaded [tarfile](https://docs.python.org/3/library/tarfile.html) fontaining 8,189 flower images."
   ]
  },
  {
   "cell_type": "code",
   "execution_count": 4,
   "id": "respiratory-envelope",
   "metadata": {},
   "outputs": [],
   "source": [
    "if os.path.isfile(data_dir + \"jpg/image_00001.jpg\") is False:\n",
    "    images_tar = tarfile.open(data_dir + image_source)\n",
    "    images_tar.extractall(data_dir)\n",
    "    images_tar.close()"
   ]
  },
  {
   "cell_type": "markdown",
   "id": "tight-mortgage",
   "metadata": {},
   "source": [
    "## Sort Data\n",
    "\n",
    "Seperate data into training, validation and test sets, reate a directory for each if they do not already exist."
   ]
  },
  {
   "cell_type": "code",
   "execution_count": 5,
   "id": "electrical-needle",
   "metadata": {},
   "outputs": [],
   "source": [
    "for directory in [training_dir, validation_dir, test_dir]:\n",
    "    if os.path.isdir(data_dir + directory) is False:\n",
    "        os.mkdir(data_dir + directory)"
   ]
  },
  {
   "cell_type": "markdown",
   "id": "personalized-beads",
   "metadata": {},
   "source": [
    "This demonstration uses the [ImageFolder](https://pytorch.org/docs/stable/torchvision/datasets.html#imagefolder) class from [torchvision.datasets](https://pytorch.org/docs/stable/torchvision/datasets.html) to load images. Images must be organized in subdirectories naed as the category for the images it contains. \n",
    "\n",
    "Use [scipy.io](https://docs.scipy.org/doc/scipy/reference/io.html) to load the image labels from the downloaded MATLAB® file (.mat). Alternatively, use the GPULab Octave kernel to work directly with most MATLAB-style files. "
   ]
  },
  {
   "cell_type": "code",
   "execution_count": 6,
   "id": "elegant-discharge",
   "metadata": {},
   "outputs": [],
   "source": [
    "labels_mat = sio.loadmat(data_dir + \"imagelabels.mat\")"
   ]
  },
  {
   "cell_type": "markdown",
   "id": "opposite-leader",
   "metadata": {},
   "source": [
    "Ensure the lables are accessable. The label array should contain 8189 elements representing a numberic category for each of the 8,189 flower images."
   ]
  },
  {
   "cell_type": "code",
   "execution_count": 7,
   "id": "threaded-electric",
   "metadata": {},
   "outputs": [
    {
     "data": {
      "text/plain": [
       "True"
      ]
     },
     "execution_count": 7,
     "metadata": {},
     "output_type": "execute_result"
    }
   ],
   "source": [
    "labels = np.array(labels_mat['labels'][0])\n",
    "len(labels) == 8189"
   ]
  },
  {
   "cell_type": "markdown",
   "id": "heated-choice",
   "metadata": {},
   "source": [
    "Create a random index for sorting files using the length of the label set. Split the random index list into three groups: ~70% into a training set, ~20% into a validation set and ~10% into a test set. "
   ]
  },
  {
   "cell_type": "code",
   "execution_count": 8,
   "id": "chicken-planner",
   "metadata": {},
   "outputs": [
    {
     "data": {
      "text/plain": [
       "True"
      ]
     },
     "execution_count": 8,
     "metadata": {},
     "output_type": "execute_result"
    }
   ],
   "source": [
    "index_n = len(labels)\n",
    "image_index = np.arange(index_n)\n",
    "np.random.shuffle(image_index)\n",
    "\n",
    "t_n = round(index_n * .70)\n",
    "v_n = round(index_n * .20)\n",
    "\n",
    "# create a dictionary of directories and a range of label indexes\n",
    "idx_dict = {\n",
    "    training_dir: image_index[0:t_n],\n",
    "    validation_dir: image_index[t_n:t_n+v_n],\n",
    "    test_dir: image_index[t_n+v_n:],\n",
    "}\n",
    "\n",
    "# ensure the indexes add up to the total numer of lables\n",
    "(len(idx_dict[training_dir])\n",
    " + len(idx_dict[validation_dir])\n",
    " + len(idx_dict[test_dir])) == index_n"
   ]
  },
  {
   "cell_type": "markdown",
   "id": "human-korea",
   "metadata": {},
   "source": [
    "Move files to their proper folders.\n",
    "\n",
    "`labels` holds the category value of image number (starting at 1) to its index number - 1 (zero based index)  "
   ]
  },
  {
   "cell_type": "code",
   "execution_count": 9,
   "id": "gorgeous-integrity",
   "metadata": {},
   "outputs": [],
   "source": [
    "for d in idx_dict:\n",
    "    for idx in idx_dict[d]:\n",
    "        file_name = f\"image_{idx+1:05d}.jpg\"\n",
    "        source_file = f\"{data_dir}jpg/{file_name}\"\n",
    "        dest_dir = f\"{data_dir}{d}{labels[idx]}\"\n",
    "        dest_file = f\"{dest_dir}/{file_name}\"\n",
    "        # print(f\"{source_file} -> {dest_file}\")\n",
    "        if os.path.isdir(dest_dir) is False:\n",
    "            os.mkdir(dest_dir)\n",
    "        if os.path.isfile(dest_file) is False:\n",
    "            shutil.move(source_file, dest_file)"
   ]
  },
  {
   "cell_type": "markdown",
   "id": "seasonal-happiness",
   "metadata": {},
   "source": [
    "## Review Labels\n"
   ]
  },
  {
   "cell_type": "code",
   "execution_count": 10,
   "id": "brilliant-gospel",
   "metadata": {},
   "outputs": [],
   "source": [
    "text_labels = [\"pink primrose\",\"hard-leaved pocket orchid\",\n",
    "               \"canterbury bells\",\"sweet pea\",\"english marigold\",\n",
    "               \"tiger lily\",\"moon orchid\",\"bird of paradise\",\"monkshood\",\n",
    "               \"globe thistle\",\"snapdragon\",\"colt's foot\",\"king protea\",\n",
    "               \"spear thistle\",\"yellow iris\",\"globe-flower\",\"purple coneflower\",\n",
    "               \"peruvian lily\",\"balloon flower\",\"giant white arum lily\",\n",
    "               \"fire lily\",\"pincushion flower\",\"fritillary\",\"red ginger\",\n",
    "               \"grape hyacinth\",\"corn poppy\",\"prince of wales feathers\",\n",
    "               \"stemless gentian\",\"artichoke\",\"sweet william\",\"carnation\",\n",
    "               \"garden phlox\",\"love in the mist\",\"mexican aster\",\"alpine sea holly\",\n",
    "               \"ruby-lipped cattleya\",\"cape flower\",\"great masterwort\",\"siam tulip\",\n",
    "               \"lenten rose\",\"barbeton daisy\",\"daffodil\",\"sword lily\",\"poinsettia\",\n",
    "               \"bolero deep blue\",\"wallflower\",\"marigold\",\"buttercup\",\"oxeye daisy\",\n",
    "               \"common dandelion\",\"petunia\",\"wild pansy\",\"primula\",\"sunflower\",\n",
    "               \"pelargonium\",\"bishop of llandaff\",\"gaura\",\"geranium\",\"orange dahlia\",\n",
    "               \"pink-yellow dahlia\",\"cautleya spicata\",\"japanese anemone\",\n",
    "               \"black-eyed susan\",\"silverbush\",\"californian poppy\",\"osteospermum\",\n",
    "               \"spring crocus\",\"bearded iris\",\"windflower\",\"tree poppy\",\"gazania\",\n",
    "               \"azalea\",\"water lily\",\"rose\",\"thorn apple\",\"morning glory\",\n",
    "               \"passion flower\",\"lotus lotus\",\"toad lily\",\"anthurium\",\"frangipani\",\n",
    "               \"clematis\",\"hibiscus\",\"columbine\",\"desert-rose\",\"tree mallow\",\n",
    "               \"magnolia\",\"cyclamen\",\"watercress\",\"canna lily\",\"hippeastrum\",\n",
    "               \"bee balm\",\"ball moss\",\"foxglove\",\"bougainvillea\",\"camellia\",\n",
    "               \"mallow\",\"mexican petunia\",\"bromelia\",\"blanket flower\",\"trumpet creeper\",\n",
    "               \"blackberry lily\"]"
   ]
  },
  {
   "cell_type": "code",
   "execution_count": 11,
   "id": "straight-sampling",
   "metadata": {},
   "outputs": [
    {
     "data": {
      "image/jpeg": "[encoded data removed]",
      "text/plain": [
       "<IPython.core.display.Image object>"
      ]
     },
     "execution_count": 11,
     "metadata": {},
     "output_type": "execute_result"
    }
   ],
   "source": [
    "Image(filename=data_dir+training_dir+'1/image_06734.jpg') "
   ]
  },
  {
   "cell_type": "code",
   "execution_count": null,
   "id": "wicked-trouble",
   "metadata": {},
   "outputs": [],
   "source": []
  }
 ],
 "metadata": {
  "kernelspec": {
   "display_name": "Python 3",
   "language": "python",
   "name": "python3"
  },
  "language_info": {
   "codemirror_mode": {
    "name": "ipython",
    "version": 3
   },
   "file_extension": ".py",
   "mimetype": "text/x-python",
   "name": "python",
   "nbconvert_exporter": "python",
   "pygments_lexer": "ipython3",
   "version": "3.7.9"
  }
 },
 "nbformat": 4,
 "nbformat_minor": 5
}
